{
  "cells": [
    {
      "cell_type": "code",
      "execution_count": 2,
      "metadata": {
        "colab": {
          "base_uri": "https://localhost:8080/"
        },
        "id": "mdk-6o1Zwuv6",
        "outputId": "d52a6abc-d17c-4fe9-df7b-b27dd4c663fd"
      },
      "outputs": [
        {
          "name": "stdout",
          "output_type": "stream",
          "text": [
            "Mounted at /content/gdrive/\n"
          ]
        }
      ],
      "source": [
        "# 구글 드라이브 연동\n",
        "from google.colab import drive \n",
        "\n",
        "drive.mount('/content/gdrive/')\n",
        "download_path = '/content/gdrive/MyDrive/'\n",
        "!ln -s /content/gdrive/MyDrive/ /mydrive"
      ]
    },
    {
      "cell_type": "code",
      "execution_count": 95,
      "metadata": {
        "id": "50Nde0XUwsmA"
      },
      "outputs": [],
      "source": [
        "import pandas as pd\n",
        "import os\n",
        "import re"
      ]
    },
    {
      "cell_type": "code",
      "execution_count": 111,
      "metadata": {
        "colab": {
          "base_uri": "https://localhost:8080/"
        },
        "id": "OfPFrV3H8r4J",
        "outputId": "0b10d12b-9660-4d3d-99b1-a965ba5a7223"
      },
      "outputs": [
        {
          "data": {
            "text/plain": [
              "num_reward            int64\n",
              "min_price             int64\n",
              "target                int64\n",
              "cnt_main_images       int64\n",
              "cnt_title_images      int64\n",
              "start_date           object\n",
              "end_date             object\n",
              "category             object\n",
              "succ_rate           float64\n",
              "code                  int64\n",
              "result                int64\n",
              "success               int64\n",
              "dtype: object"
            ]
          },
          "execution_count": 111,
          "metadata": {},
          "output_type": "execute_result"
        }
      ],
      "source": [
        "df.dtypes"
      ]
    },
    {
      "cell_type": "code",
      "execution_count": 122,
      "metadata": {
        "colab": {
          "base_uri": "https://localhost:8080/"
        },
        "id": "ZlSTn1bt-URc",
        "outputId": "f80fb296-4346-4109-bd4f-fcd71c47112f"
      },
      "outputs": [
        {
          "data": {
            "text/plain": [
              "0      2022-04-20\n",
              "1      2022-04-15\n",
              "2      2022-04-19\n",
              "3      2022-04-17\n",
              "4      2022-04-18\n",
              "          ...    \n",
              "9915   2021-11-05\n",
              "9916   2022-04-11\n",
              "9917   2021-11-22\n",
              "9918   2022-01-16\n",
              "9919   2021-10-29\n",
              "Name: start_date, Length: 9920, dtype: datetime64[ns]"
            ]
          },
          "execution_count": 122,
          "metadata": {},
          "output_type": "execute_result"
        }
      ],
      "source": [
        "pd.to_datetime(df['start_date'])"
      ]
    },
    {
      "cell_type": "code",
      "execution_count": 123,
      "metadata": {
        "colab": {
          "base_uri": "https://localhost:8080/",
          "height": 661
        },
        "id": "Do2lxZmm5oxq",
        "outputId": "7dd422e2-714d-4f36-be3d-849db998b46e"
      },
      "outputs": [
        {
          "data": {
            "text/html": [
              "\n",
              "  <div id=\"df-3274f444-bda6-4410-8dc3-3247a5c7dbc1\">\n",
              "    <div class=\"colab-df-container\">\n",
              "      <div>\n",
              "<style scoped>\n",
              "    .dataframe tbody tr th:only-of-type {\n",
              "        vertical-align: middle;\n",
              "    }\n",
              "\n",
              "    .dataframe tbody tr th {\n",
              "        vertical-align: top;\n",
              "    }\n",
              "\n",
              "    .dataframe thead th {\n",
              "        text-align: right;\n",
              "    }\n",
              "</style>\n",
              "<table border=\"1\" class=\"dataframe\">\n",
              "  <thead>\n",
              "    <tr style=\"text-align: right;\">\n",
              "      <th></th>\n",
              "      <th>num_reward</th>\n",
              "      <th>min_price</th>\n",
              "      <th>target</th>\n",
              "      <th>cnt_main_images</th>\n",
              "      <th>cnt_title_images</th>\n",
              "      <th>start_date</th>\n",
              "      <th>end_date</th>\n",
              "      <th>category</th>\n",
              "      <th>succ_rate</th>\n",
              "      <th>code</th>\n",
              "      <th>result</th>\n",
              "      <th>success</th>\n",
              "    </tr>\n",
              "  </thead>\n",
              "  <tbody>\n",
              "    <tr>\n",
              "      <th>0</th>\n",
              "      <td>3</td>\n",
              "      <td>11900</td>\n",
              "      <td>500000</td>\n",
              "      <td>5</td>\n",
              "      <td>2</td>\n",
              "      <td>2022-04-20</td>\n",
              "      <td>2022-04-29</td>\n",
              "      <td>푸드</td>\n",
              "      <td>1.000000</td>\n",
              "      <td>145312</td>\n",
              "      <td>435</td>\n",
              "      <td>1</td>\n",
              "    </tr>\n",
              "    <tr>\n",
              "      <th>1</th>\n",
              "      <td>6</td>\n",
              "      <td>35900</td>\n",
              "      <td>500000</td>\n",
              "      <td>7</td>\n",
              "      <td>3</td>\n",
              "      <td>2022-04-15</td>\n",
              "      <td>2022-05-09</td>\n",
              "      <td>푸드</td>\n",
              "      <td>1.000000</td>\n",
              "      <td>145276</td>\n",
              "      <td>395</td>\n",
              "      <td>1</td>\n",
              "    </tr>\n",
              "    <tr>\n",
              "      <th>2</th>\n",
              "      <td>2</td>\n",
              "      <td>22000</td>\n",
              "      <td>500000</td>\n",
              "      <td>31</td>\n",
              "      <td>4</td>\n",
              "      <td>2022-04-19</td>\n",
              "      <td>2022-04-25</td>\n",
              "      <td>푸드</td>\n",
              "      <td>0.975610</td>\n",
              "      <td>145132</td>\n",
              "      <td>442</td>\n",
              "      <td>1</td>\n",
              "    </tr>\n",
              "    <tr>\n",
              "      <th>3</th>\n",
              "      <td>3</td>\n",
              "      <td>5000</td>\n",
              "      <td>500000</td>\n",
              "      <td>16</td>\n",
              "      <td>1</td>\n",
              "      <td>2022-04-17</td>\n",
              "      <td>2022-04-25</td>\n",
              "      <td>게임·취미</td>\n",
              "      <td>1.000000</td>\n",
              "      <td>145082</td>\n",
              "      <td>278</td>\n",
              "      <td>1</td>\n",
              "    </tr>\n",
              "    <tr>\n",
              "      <th>4</th>\n",
              "      <td>2</td>\n",
              "      <td>98000</td>\n",
              "      <td>500000</td>\n",
              "      <td>12</td>\n",
              "      <td>1</td>\n",
              "      <td>2022-04-18</td>\n",
              "      <td>2022-05-13</td>\n",
              "      <td>스포츠·모빌리티</td>\n",
              "      <td>0.000000</td>\n",
              "      <td>145037</td>\n",
              "      <td>0</td>\n",
              "      <td>0</td>\n",
              "    </tr>\n",
              "    <tr>\n",
              "      <th>...</th>\n",
              "      <td>...</td>\n",
              "      <td>...</td>\n",
              "      <td>...</td>\n",
              "      <td>...</td>\n",
              "      <td>...</td>\n",
              "      <td>...</td>\n",
              "      <td>...</td>\n",
              "      <td>...</td>\n",
              "      <td>...</td>\n",
              "      <td>...</td>\n",
              "      <td>...</td>\n",
              "      <td>...</td>\n",
              "    </tr>\n",
              "    <tr>\n",
              "      <th>9915</th>\n",
              "      <td>9</td>\n",
              "      <td>65900</td>\n",
              "      <td>12</td>\n",
              "      <td>92</td>\n",
              "      <td>4</td>\n",
              "      <td>2021-11-05</td>\n",
              "      <td>2021-11-22</td>\n",
              "      <td>홈·리빙</td>\n",
              "      <td>0.807692</td>\n",
              "      <td>130228</td>\n",
              "      <td>1238</td>\n",
              "      <td>1</td>\n",
              "    </tr>\n",
              "    <tr>\n",
              "      <th>9916</th>\n",
              "      <td>3</td>\n",
              "      <td>29900</td>\n",
              "      <td>3000000</td>\n",
              "      <td>93</td>\n",
              "      <td>1</td>\n",
              "      <td>2022-04-11</td>\n",
              "      <td>2022-05-16</td>\n",
              "      <td>스포츠·모빌리티</td>\n",
              "      <td>1.000000</td>\n",
              "      <td>130227</td>\n",
              "      <td>424</td>\n",
              "      <td>1</td>\n",
              "    </tr>\n",
              "    <tr>\n",
              "      <th>9917</th>\n",
              "      <td>8</td>\n",
              "      <td>75000</td>\n",
              "      <td>500000</td>\n",
              "      <td>40</td>\n",
              "      <td>7</td>\n",
              "      <td>2021-11-22</td>\n",
              "      <td>2021-12-03</td>\n",
              "      <td>홈·리빙</td>\n",
              "      <td>0.916667</td>\n",
              "      <td>130225</td>\n",
              "      <td>853</td>\n",
              "      <td>1</td>\n",
              "    </tr>\n",
              "    <tr>\n",
              "      <th>9918</th>\n",
              "      <td>5</td>\n",
              "      <td>22500</td>\n",
              "      <td>2000000</td>\n",
              "      <td>8</td>\n",
              "      <td>1</td>\n",
              "      <td>2022-01-16</td>\n",
              "      <td>2022-01-24</td>\n",
              "      <td>패션·잡화</td>\n",
              "      <td>0.000000</td>\n",
              "      <td>130224</td>\n",
              "      <td>47</td>\n",
              "      <td>0</td>\n",
              "    </tr>\n",
              "    <tr>\n",
              "      <th>9919</th>\n",
              "      <td>4</td>\n",
              "      <td>230000</td>\n",
              "      <td>20000000</td>\n",
              "      <td>64</td>\n",
              "      <td>4</td>\n",
              "      <td>2021-10-29</td>\n",
              "      <td>2021-11-23</td>\n",
              "      <td>패션·잡화</td>\n",
              "      <td>0.500000</td>\n",
              "      <td>130221</td>\n",
              "      <td>7</td>\n",
              "      <td>0</td>\n",
              "    </tr>\n",
              "  </tbody>\n",
              "</table>\n",
              "<p>9920 rows × 12 columns</p>\n",
              "</div>\n",
              "      <button class=\"colab-df-convert\" onclick=\"convertToInteractive('df-3274f444-bda6-4410-8dc3-3247a5c7dbc1')\"\n",
              "              title=\"Convert this dataframe to an interactive table.\"\n",
              "              style=\"display:none;\">\n",
              "        \n",
              "  <svg xmlns=\"http://www.w3.org/2000/svg\" height=\"24px\"viewBox=\"0 0 24 24\"\n",
              "       width=\"24px\">\n",
              "    <path d=\"M0 0h24v24H0V0z\" fill=\"none\"/>\n",
              "    <path d=\"M18.56 5.44l.94 2.06.94-2.06 2.06-.94-2.06-.94-.94-2.06-.94 2.06-2.06.94zm-11 1L8.5 8.5l.94-2.06 2.06-.94-2.06-.94L8.5 2.5l-.94 2.06-2.06.94zm10 10l.94 2.06.94-2.06 2.06-.94-2.06-.94-.94-2.06-.94 2.06-2.06.94z\"/><path d=\"M17.41 7.96l-1.37-1.37c-.4-.4-.92-.59-1.43-.59-.52 0-1.04.2-1.43.59L10.3 9.45l-7.72 7.72c-.78.78-.78 2.05 0 2.83L4 21.41c.39.39.9.59 1.41.59.51 0 1.02-.2 1.41-.59l7.78-7.78 2.81-2.81c.8-.78.8-2.07 0-2.86zM5.41 20L4 18.59l7.72-7.72 1.47 1.35L5.41 20z\"/>\n",
              "  </svg>\n",
              "      </button>\n",
              "      \n",
              "  <style>\n",
              "    .colab-df-container {\n",
              "      display:flex;\n",
              "      flex-wrap:wrap;\n",
              "      gap: 12px;\n",
              "    }\n",
              "\n",
              "    .colab-df-convert {\n",
              "      background-color: #E8F0FE;\n",
              "      border: none;\n",
              "      border-radius: 50%;\n",
              "      cursor: pointer;\n",
              "      display: none;\n",
              "      fill: #1967D2;\n",
              "      height: 32px;\n",
              "      padding: 0 0 0 0;\n",
              "      width: 32px;\n",
              "    }\n",
              "\n",
              "    .colab-df-convert:hover {\n",
              "      background-color: #E2EBFA;\n",
              "      box-shadow: 0px 1px 2px rgba(60, 64, 67, 0.3), 0px 1px 3px 1px rgba(60, 64, 67, 0.15);\n",
              "      fill: #174EA6;\n",
              "    }\n",
              "\n",
              "    [theme=dark] .colab-df-convert {\n",
              "      background-color: #3B4455;\n",
              "      fill: #D2E3FC;\n",
              "    }\n",
              "\n",
              "    [theme=dark] .colab-df-convert:hover {\n",
              "      background-color: #434B5C;\n",
              "      box-shadow: 0px 1px 3px 1px rgba(0, 0, 0, 0.15);\n",
              "      filter: drop-shadow(0px 1px 2px rgba(0, 0, 0, 0.3));\n",
              "      fill: #FFFFFF;\n",
              "    }\n",
              "  </style>\n",
              "\n",
              "      <script>\n",
              "        const buttonEl =\n",
              "          document.querySelector('#df-3274f444-bda6-4410-8dc3-3247a5c7dbc1 button.colab-df-convert');\n",
              "        buttonEl.style.display =\n",
              "          google.colab.kernel.accessAllowed ? 'block' : 'none';\n",
              "\n",
              "        async function convertToInteractive(key) {\n",
              "          const element = document.querySelector('#df-3274f444-bda6-4410-8dc3-3247a5c7dbc1');\n",
              "          const dataTable =\n",
              "            await google.colab.kernel.invokeFunction('convertToInteractive',\n",
              "                                                     [key], {});\n",
              "          if (!dataTable) return;\n",
              "\n",
              "          const docLinkHtml = 'Like what you see? Visit the ' +\n",
              "            '<a target=\"_blank\" href=https://colab.research.google.com/notebooks/data_table.ipynb>data table notebook</a>'\n",
              "            + ' to learn more about interactive tables.';\n",
              "          element.innerHTML = '';\n",
              "          dataTable['output_type'] = 'display_data';\n",
              "          await google.colab.output.renderOutput(dataTable, element);\n",
              "          const docLink = document.createElement('div');\n",
              "          docLink.innerHTML = docLinkHtml;\n",
              "          element.appendChild(docLink);\n",
              "        }\n",
              "      </script>\n",
              "    </div>\n",
              "  </div>\n",
              "  "
            ],
            "text/plain": [
              "      num_reward  min_price    target  cnt_main_images  cnt_title_images  \\\n",
              "0              3      11900    500000                5                 2   \n",
              "1              6      35900    500000                7                 3   \n",
              "2              2      22000    500000               31                 4   \n",
              "3              3       5000    500000               16                 1   \n",
              "4              2      98000    500000               12                 1   \n",
              "...          ...        ...       ...              ...               ...   \n",
              "9915           9      65900        12               92                 4   \n",
              "9916           3      29900   3000000               93                 1   \n",
              "9917           8      75000    500000               40                 7   \n",
              "9918           5      22500   2000000                8                 1   \n",
              "9919           4     230000  20000000               64                 4   \n",
              "\n",
              "     start_date   end_date  category  succ_rate    code  result  success  \n",
              "0    2022-04-20 2022-04-29        푸드   1.000000  145312     435        1  \n",
              "1    2022-04-15 2022-05-09        푸드   1.000000  145276     395        1  \n",
              "2    2022-04-19 2022-04-25        푸드   0.975610  145132     442        1  \n",
              "3    2022-04-17 2022-04-25     게임·취미   1.000000  145082     278        1  \n",
              "4    2022-04-18 2022-05-13  스포츠·모빌리티   0.000000  145037       0        0  \n",
              "...         ...        ...       ...        ...     ...     ...      ...  \n",
              "9915 2021-11-05 2021-11-22      홈·리빙   0.807692  130228    1238        1  \n",
              "9916 2022-04-11 2022-05-16  스포츠·모빌리티   1.000000  130227     424        1  \n",
              "9917 2021-11-22 2021-12-03      홈·리빙   0.916667  130225     853        1  \n",
              "9918 2022-01-16 2022-01-24     패션·잡화   0.000000  130224      47        0  \n",
              "9919 2021-10-29 2021-11-23     패션·잡화   0.500000  130221       7        0  \n",
              "\n",
              "[9920 rows x 12 columns]"
            ]
          },
          "execution_count": 123,
          "metadata": {},
          "output_type": "execute_result"
        }
      ],
      "source": [
        "# 리워드 종류 (리워드 개수), 최저금액, 목표금액 / 금액, 메이커 정보, 이미지 개수, 펀딩기간, 카테고리명, 달성률, 과목코드\n",
        "\n",
        "df = pd.read_csv('/mydrive/종프/data/data.csv')\n",
        "df.rename(columns={'resut':'result'}, inplace=True)\n",
        "df['result'] = df['result'].apply(lambda x: int(re.sub('[\\D]', '', x)))\n",
        "df['result'] = pd.to_numeric(df['result'])\n",
        "df['success'] = df['result'].apply(lambda x: 1 if x >= 100 else 0)\n",
        "df['target'] = df['target'].apply(lambda x: int(re.sub('[\\D]', '', x)))\n",
        "df = df.drop(['rate', 'num_sup'], axis=1)\n",
        "df['start_date'] = pd.to_datetime(df['start_date'])\n",
        "df['end_date'] = pd.to_datetime(df['end_date'])\n",
        "\n",
        "# df['rate'] = pd.to_numeric(df['rate'])\n",
        "# df['num_sup'] = pd.to_numeric(df['num_sup'])\n",
        "df"
      ]
    },
    {
      "cell_type": "code",
      "execution_count": 124,
      "metadata": {
        "id": "Dn0pbd1d9pUA"
      },
      "outputs": [],
      "source": [
        "df.to_csv('data_9920.csv', index=False)"
      ]
    },
    {
      "cell_type": "markdown",
      "metadata": {
        "id": "6xIH0ULu93Nv"
      },
      "source": [
        "# EDA"
      ]
    },
    {
      "cell_type": "code",
      "execution_count": null,
      "metadata": {
        "id": "2AjTxke6918A"
      },
      "outputs": [],
      "source": [
        "# 구글 드라이브 연동\n",
        "from google.colab import drive \n",
        "\n",
        "drive.mount('/content/gdrive/')\n",
        "download_path = '/content/gdrive/MyDrive/'\n",
        "!ln -s /content/gdrive/MyDrive/ /mydrive\n",
        "\n",
        "# 한글 글씨체 다운로드\n",
        "!sudo apt-get install -y fonts-nanum\n",
        "!sudo fc-cache -fv\n",
        "!rm ~/.cache/matplotlib -rf"
      ]
    },
    {
      "cell_type": "code",
      "execution_count": 1,
      "metadata": {
        "id": "7OFr2paC97H2"
      },
      "outputs": [],
      "source": [
        "import pandas as pd\n",
        "import os\n",
        "import re\n",
        "import matplotlib.pyplot as plt\n",
        "import seaborn as sns\n",
        "plt.rc('font', family='NanumBarunGothic') \n",
        "plt.rc('axes', unicode_minus = False)"
      ]
    },
    {
      "cell_type": "code",
      "execution_count": 128,
      "metadata": {
        "colab": {
          "base_uri": "https://localhost:8080/"
        },
        "id": "Jqb7uJoJ98GW",
        "outputId": "33164fe1-79d6-4a9e-c4ce-4f1293e1bc8c"
      },
      "outputs": [
        {
          "name": "stdout",
          "output_type": "stream",
          "text": [
            "0~1690.txt     2000~4000.txt  5796~6000.txt  8000~10000.txt  data.csv\n",
            "1691~2000.txt  4000~5796.txt  6000~7987.txt  data_9920.csv\n"
          ]
        }
      ],
      "source": [
        "!ls /mydrive/종프/data"
      ]
    },
    {
      "cell_type": "code",
      "execution_count": 13,
      "metadata": {
        "colab": {
          "base_uri": "https://localhost:8080/",
          "height": 357
        },
        "id": "4a-9T82q-FDA",
        "outputId": "05ccfe3a-9a54-4310-b4de-7a37ddfa813b"
      },
      "outputs": [
        {
          "data": {
            "text/html": [
              "\n",
              "  <div id=\"df-785c0621-7c32-428d-98ee-a7595a391da7\">\n",
              "    <div class=\"colab-df-container\">\n",
              "      <div>\n",
              "<style scoped>\n",
              "    .dataframe tbody tr th:only-of-type {\n",
              "        vertical-align: middle;\n",
              "    }\n",
              "\n",
              "    .dataframe tbody tr th {\n",
              "        vertical-align: top;\n",
              "    }\n",
              "\n",
              "    .dataframe thead th {\n",
              "        text-align: right;\n",
              "    }\n",
              "</style>\n",
              "<table border=\"1\" class=\"dataframe\">\n",
              "  <thead>\n",
              "    <tr style=\"text-align: right;\">\n",
              "      <th></th>\n",
              "      <th>num_reward</th>\n",
              "      <th>min_price</th>\n",
              "      <th>target</th>\n",
              "      <th>cnt_main_images</th>\n",
              "      <th>cnt_title_images</th>\n",
              "      <th>start_date</th>\n",
              "      <th>end_date</th>\n",
              "      <th>category</th>\n",
              "      <th>succ_rate</th>\n",
              "      <th>result</th>\n",
              "      <th>success</th>\n",
              "    </tr>\n",
              "  </thead>\n",
              "  <tbody>\n",
              "    <tr>\n",
              "      <th>0</th>\n",
              "      <td>3</td>\n",
              "      <td>11900</td>\n",
              "      <td>500000</td>\n",
              "      <td>5</td>\n",
              "      <td>2</td>\n",
              "      <td>2022-04-20</td>\n",
              "      <td>2022-04-29</td>\n",
              "      <td>푸드</td>\n",
              "      <td>1.00000</td>\n",
              "      <td>435</td>\n",
              "      <td>1</td>\n",
              "    </tr>\n",
              "    <tr>\n",
              "      <th>1</th>\n",
              "      <td>6</td>\n",
              "      <td>35900</td>\n",
              "      <td>500000</td>\n",
              "      <td>7</td>\n",
              "      <td>3</td>\n",
              "      <td>2022-04-15</td>\n",
              "      <td>2022-05-09</td>\n",
              "      <td>푸드</td>\n",
              "      <td>1.00000</td>\n",
              "      <td>395</td>\n",
              "      <td>1</td>\n",
              "    </tr>\n",
              "    <tr>\n",
              "      <th>2</th>\n",
              "      <td>2</td>\n",
              "      <td>22000</td>\n",
              "      <td>500000</td>\n",
              "      <td>31</td>\n",
              "      <td>4</td>\n",
              "      <td>2022-04-19</td>\n",
              "      <td>2022-04-25</td>\n",
              "      <td>푸드</td>\n",
              "      <td>0.97561</td>\n",
              "      <td>442</td>\n",
              "      <td>1</td>\n",
              "    </tr>\n",
              "    <tr>\n",
              "      <th>3</th>\n",
              "      <td>3</td>\n",
              "      <td>5000</td>\n",
              "      <td>500000</td>\n",
              "      <td>16</td>\n",
              "      <td>1</td>\n",
              "      <td>2022-04-17</td>\n",
              "      <td>2022-04-25</td>\n",
              "      <td>게임·취미</td>\n",
              "      <td>1.00000</td>\n",
              "      <td>278</td>\n",
              "      <td>1</td>\n",
              "    </tr>\n",
              "    <tr>\n",
              "      <th>4</th>\n",
              "      <td>2</td>\n",
              "      <td>98000</td>\n",
              "      <td>500000</td>\n",
              "      <td>12</td>\n",
              "      <td>1</td>\n",
              "      <td>2022-04-18</td>\n",
              "      <td>2022-05-13</td>\n",
              "      <td>스포츠·모빌리티</td>\n",
              "      <td>0.00000</td>\n",
              "      <td>0</td>\n",
              "      <td>0</td>\n",
              "    </tr>\n",
              "  </tbody>\n",
              "</table>\n",
              "</div>\n",
              "      <button class=\"colab-df-convert\" onclick=\"convertToInteractive('df-785c0621-7c32-428d-98ee-a7595a391da7')\"\n",
              "              title=\"Convert this dataframe to an interactive table.\"\n",
              "              style=\"display:none;\">\n",
              "        \n",
              "  <svg xmlns=\"http://www.w3.org/2000/svg\" height=\"24px\"viewBox=\"0 0 24 24\"\n",
              "       width=\"24px\">\n",
              "    <path d=\"M0 0h24v24H0V0z\" fill=\"none\"/>\n",
              "    <path d=\"M18.56 5.44l.94 2.06.94-2.06 2.06-.94-2.06-.94-.94-2.06-.94 2.06-2.06.94zm-11 1L8.5 8.5l.94-2.06 2.06-.94-2.06-.94L8.5 2.5l-.94 2.06-2.06.94zm10 10l.94 2.06.94-2.06 2.06-.94-2.06-.94-.94-2.06-.94 2.06-2.06.94z\"/><path d=\"M17.41 7.96l-1.37-1.37c-.4-.4-.92-.59-1.43-.59-.52 0-1.04.2-1.43.59L10.3 9.45l-7.72 7.72c-.78.78-.78 2.05 0 2.83L4 21.41c.39.39.9.59 1.41.59.51 0 1.02-.2 1.41-.59l7.78-7.78 2.81-2.81c.8-.78.8-2.07 0-2.86zM5.41 20L4 18.59l7.72-7.72 1.47 1.35L5.41 20z\"/>\n",
              "  </svg>\n",
              "      </button>\n",
              "      \n",
              "  <style>\n",
              "    .colab-df-container {\n",
              "      display:flex;\n",
              "      flex-wrap:wrap;\n",
              "      gap: 12px;\n",
              "    }\n",
              "\n",
              "    .colab-df-convert {\n",
              "      background-color: #E8F0FE;\n",
              "      border: none;\n",
              "      border-radius: 50%;\n",
              "      cursor: pointer;\n",
              "      display: none;\n",
              "      fill: #1967D2;\n",
              "      height: 32px;\n",
              "      padding: 0 0 0 0;\n",
              "      width: 32px;\n",
              "    }\n",
              "\n",
              "    .colab-df-convert:hover {\n",
              "      background-color: #E2EBFA;\n",
              "      box-shadow: 0px 1px 2px rgba(60, 64, 67, 0.3), 0px 1px 3px 1px rgba(60, 64, 67, 0.15);\n",
              "      fill: #174EA6;\n",
              "    }\n",
              "\n",
              "    [theme=dark] .colab-df-convert {\n",
              "      background-color: #3B4455;\n",
              "      fill: #D2E3FC;\n",
              "    }\n",
              "\n",
              "    [theme=dark] .colab-df-convert:hover {\n",
              "      background-color: #434B5C;\n",
              "      box-shadow: 0px 1px 3px 1px rgba(0, 0, 0, 0.15);\n",
              "      filter: drop-shadow(0px 1px 2px rgba(0, 0, 0, 0.3));\n",
              "      fill: #FFFFFF;\n",
              "    }\n",
              "  </style>\n",
              "\n",
              "      <script>\n",
              "        const buttonEl =\n",
              "          document.querySelector('#df-785c0621-7c32-428d-98ee-a7595a391da7 button.colab-df-convert');\n",
              "        buttonEl.style.display =\n",
              "          google.colab.kernel.accessAllowed ? 'block' : 'none';\n",
              "\n",
              "        async function convertToInteractive(key) {\n",
              "          const element = document.querySelector('#df-785c0621-7c32-428d-98ee-a7595a391da7');\n",
              "          const dataTable =\n",
              "            await google.colab.kernel.invokeFunction('convertToInteractive',\n",
              "                                                     [key], {});\n",
              "          if (!dataTable) return;\n",
              "\n",
              "          const docLinkHtml = 'Like what you see? Visit the ' +\n",
              "            '<a target=\"_blank\" href=https://colab.research.google.com/notebooks/data_table.ipynb>data table notebook</a>'\n",
              "            + ' to learn more about interactive tables.';\n",
              "          element.innerHTML = '';\n",
              "          dataTable['output_type'] = 'display_data';\n",
              "          await google.colab.output.renderOutput(dataTable, element);\n",
              "          const docLink = document.createElement('div');\n",
              "          docLink.innerHTML = docLinkHtml;\n",
              "          element.appendChild(docLink);\n",
              "        }\n",
              "      </script>\n",
              "    </div>\n",
              "  </div>\n",
              "  "
            ],
            "text/plain": [
              "   num_reward  min_price  target  cnt_main_images  cnt_title_images  \\\n",
              "0           3      11900  500000                5                 2   \n",
              "1           6      35900  500000                7                 3   \n",
              "2           2      22000  500000               31                 4   \n",
              "3           3       5000  500000               16                 1   \n",
              "4           2      98000  500000               12                 1   \n",
              "\n",
              "  start_date   end_date  category  succ_rate  result  success  \n",
              "0 2022-04-20 2022-04-29        푸드    1.00000     435        1  \n",
              "1 2022-04-15 2022-05-09        푸드    1.00000     395        1  \n",
              "2 2022-04-19 2022-04-25        푸드    0.97561     442        1  \n",
              "3 2022-04-17 2022-04-25     게임·취미    1.00000     278        1  \n",
              "4 2022-04-18 2022-05-13  스포츠·모빌리티    0.00000       0        0  "
            ]
          },
          "execution_count": 13,
          "metadata": {},
          "output_type": "execute_result"
        }
      ],
      "source": [
        "df = pd.read_csv('/mydrive/종프/data/data_9920.csv')\n",
        "df['start_date'] = pd.to_datetime(df['start_date'])\n",
        "df['end_date'] = pd.to_datetime(df['end_date'])\n",
        "df = df.drop(['code'], axis=1)\n",
        "df.head()"
      ]
    },
    {
      "cell_type": "code",
      "execution_count": 154,
      "metadata": {
        "colab": {
          "base_uri": "https://localhost:8080/"
        },
        "id": "TWibqr_a_zyL",
        "outputId": "fcd4d398-c7e3-4cdb-910c-b38cb35d985b"
      },
      "outputs": [
        {
          "data": {
            "text/plain": [
              "num_reward                   int64\n",
              "min_price                    int64\n",
              "target                       int64\n",
              "cnt_main_images              int64\n",
              "cnt_title_images             int64\n",
              "start_date          datetime64[ns]\n",
              "end_date            datetime64[ns]\n",
              "category                    object\n",
              "succ_rate                  float64\n",
              "code                         int64\n",
              "result                       int64\n",
              "success                      int64\n",
              "dtype: object"
            ]
          },
          "execution_count": 154,
          "metadata": {},
          "output_type": "execute_result"
        }
      ],
      "source": [
        "df.dtypes"
      ]
    },
    {
      "cell_type": "code",
      "execution_count": 153,
      "metadata": {
        "colab": {
          "base_uri": "https://localhost:8080/",
          "height": 339
        },
        "id": "stQN7VuK-J_n",
        "outputId": "08d3c005-28a4-41a2-a73f-4b36359ad1f5"
      },
      "outputs": [
        {
          "name": "stderr",
          "output_type": "stream",
          "text": [
            "/usr/local/lib/python3.7/dist-packages/seaborn/_decorators.py:43: FutureWarning: Pass the following variable as a keyword arg: x. From version 0.12, the only valid positional argument will be `data`, and passing other arguments without an explicit keyword will result in an error or misinterpretation.\n",
            "  FutureWarning\n"
          ]
        },
        {
          "data": {
            "text/plain": [
              "<matplotlib.axes._subplots.AxesSubplot at 0x7fed291dee50>"
            ]
          },
          "execution_count": 153,
          "metadata": {},
          "output_type": "execute_result"
        },
        {
          "data": {
            "image/png": "[encoded data removed]",
            "text/plain": [
              "<Figure size 432x288 with 1 Axes>"
            ]
          },
          "metadata": {
            "needs_background": "light"
          },
          "output_type": "display_data"
        }
      ],
      "source": [
        "years = []\n",
        "for i in range(len(df)):\n",
        "  years.append(df['start_date'][i].year)\n",
        "\n",
        "sns.countplot(years)"
      ]
    },
    {
      "cell_type": "code",
      "execution_count": 160,
      "metadata": {
        "colab": {
          "base_uri": "https://localhost:8080/"
        },
        "id": "7LYaBz6yAE8i",
        "outputId": "2c711cf3-58df-4726-d104-76a897a15ed0"
      },
      "outputs": [
        {
          "data": {
            "text/plain": [
              "1    8710\n",
              "0    1210\n",
              "Name: success, dtype: int64"
            ]
          },
          "execution_count": 160,
          "metadata": {},
          "output_type": "execute_result"
        }
      ],
      "source": [
        "df['success'].value_counts() "
      ]
    },
    {
      "cell_type": "code",
      "execution_count": 12,
      "metadata": {
        "colab": {
          "base_uri": "https://localhost:8080/",
          "height": 957
        },
        "id": "oOs9FWO4AO7e",
        "outputId": "e46936df-8dd5-42ba-a83c-ad9996d4f346"
      },
      "outputs": [
        {
          "data": {
            "text/plain": [
              "(array([ 0,  1,  2,  3,  4,  5,  6,  7,  8,  9, 10, 11, 12, 13, 14, 15]),\n",
              " <a list of 16 Text major ticklabel objects>)"
            ]
          },
          "execution_count": 12,
          "metadata": {},
          "output_type": "execute_result"
        },
        {
          "data": {
            "image/png": "[encoded data removed]",
            "text/plain": [
              "<Figure size 1080x1080 with 1 Axes>"
            ]
          },
          "metadata": {
            "needs_background": "light"
          },
          "output_type": "display_data"
        }
      ],
      "source": [
        "# success 차이 더해서 맞춰줌\n",
        "tmp = df.copy()\n",
        "for i in range(6):\n",
        "  tmp = pd.concat([df[df['success']==0], tmp])\n",
        "plt.figure(figsize=(15, 15))\n",
        "sns.countplot(data=tmp, x='category', hue='success')\n",
        "plt.xticks(rotation=45)"
      ]
    },
    {
      "cell_type": "code",
      "execution_count": 47,
      "metadata": {
        "colab": {
          "base_uri": "https://localhost:8080/",
          "height": 1000
        },
        "id": "tvMyp-32B94I",
        "outputId": "56f14157-f448-42dc-d494-577d6241145a"
      },
      "outputs": [
        {
          "data": {
            "image/png": "[encoded data removed]",
            "text/plain": [
              "<Figure size 576x576 with 1 Axes>"
            ]
          },
          "metadata": {
            "needs_background": "light"
          },
          "output_type": "display_data"
        },
        {
          "data": {
            "image/png": "[encoded data removed]",
            "text/plain": [
              "<Figure size 576x576 with 1 Axes>"
            ]
          },
          "metadata": {
            "needs_background": "light"
          },
          "output_type": "display_data"
        },
        {
          "data": {
            "image/png": "[encoded data removed]",
            "text/plain": [
              "<Figure size 576x576 with 1 Axes>"
            ]
          },
          "metadata": {
            "needs_background": "light"
          },
          "output_type": "display_data"
        },
        {
          "data": {
            "image/png": "[encoded data removed]",
            "text/plain": [
              "<Figure size 576x576 with 1 Axes>"
            ]
          },
          "metadata": {
            "needs_background": "light"
          },
          "output_type": "display_data"
        },
        {
          "data": {
            "image/png": "[encoded data removed]",
            "text/plain": [
              "<Figure size 576x576 with 1 Axes>"
            ]
          },
          "metadata": {
            "needs_background": "light"
          },
          "output_type": "display_data"
        },
        {
          "data": {
            "image/png": "[encoded data removed]",
            "text/plain": [
              "<Figure size 576x576 with 1 Axes>"
            ]
          },
          "metadata": {
            "needs_background": "light"
          },
          "output_type": "display_data"
        }
      ],
      "source": [
        "is_int = df.dtypes[(df.dtypes == int)].index.tolist()\n",
        "is_float = df.dtypes[(df.dtypes == float)].index.tolist()\n",
        "num_list = []\n",
        "num_list.extend(is_int)\n",
        "num_list.extend(is_float)\n",
        "num_list = list(set(num_list))\n",
        "num_list.remove('result')\n",
        "num_list.remove('success')\n",
        "\n",
        "\n",
        "for num in num_list:\n",
        "  plt.figure(figsize=(8, 8))\n",
        "  sns.boxplot(data=df, x='success', y=num, showfliers=False)"
      ]
    }
  ],
  "metadata": {
    "colab": {
      "collapsed_sections": [],
      "name": "Modeling2.ipynb",
      "provenance": []
    },
    "kernelspec": {
      "display_name": "Python 3",
      "name": "python3"
    },
    "language_info": {
      "name": "python"
    }
  },
  "nbformat": 4,
  "nbformat_minor": 0
}
